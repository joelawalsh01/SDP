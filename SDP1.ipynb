{
 "cells": [
  {
   "cell_type": "code",
   "execution_count": 112,
   "metadata": {},
   "outputs": [],
   "source": [
    "import pandas as pd\n",
    "import matplotlib.pyplot as plt\n",
    "import numpy as np\n",
    "\n"
   ]
  },
  {
   "cell_type": "code",
   "execution_count": 144,
   "metadata": {},
   "outputs": [],
   "source": [
    "all_data_df = pd.read_csv('/Users/ednovate/Downloads/DFCM/final1.csv',delimiter=',')"
   ]
  },
  {
   "cell_type": "code",
   "execution_count": 145,
   "metadata": {},
   "outputs": [
    {
     "data": {
      "text/plain": [
       "(6448, 28)"
      ]
     },
     "execution_count": 145,
     "metadata": {},
     "output_type": "execute_result"
    }
   ],
   "source": [
    "np.shape(all_data_df)"
   ]
  },
  {
   "cell_type": "code",
   "execution_count": 146,
   "metadata": {},
   "outputs": [
    {
     "data": {
      "text/html": [
       "<div>\n",
       "<style scoped>\n",
       "    .dataframe tbody tr th:only-of-type {\n",
       "        vertical-align: middle;\n",
       "    }\n",
       "\n",
       "    .dataframe tbody tr th {\n",
       "        vertical-align: top;\n",
       "    }\n",
       "\n",
       "    .dataframe thead th {\n",
       "        text-align: right;\n",
       "    }\n",
       "</style>\n",
       "<table border=\"1\" class=\"dataframe\">\n",
       "  <thead>\n",
       "    <tr style=\"text-align: right;\">\n",
       "      <th></th>\n",
       "      <th>tid</th>\n",
       "      <th>school_year</th>\n",
       "      <th>school_code</th>\n",
       "      <th>school_name</th>\n",
       "      <th>t_male</th>\n",
       "      <th>t_birth_year</th>\n",
       "      <th>t_race_ethnicity</th>\n",
       "      <th>t_highest_degree</th>\n",
       "      <th>t_nbpts</th>\n",
       "      <th>t_new_hire</th>\n",
       "      <th>...</th>\n",
       "      <th>t_transfer</th>\n",
       "      <th>t_leave</th>\n",
       "      <th>sch_magnet</th>\n",
       "      <th>sch_year_round</th>\n",
       "      <th>sch_ela_avg</th>\n",
       "      <th>sch_math_avg</th>\n",
       "      <th>sch_enrollment</th>\n",
       "      <th>sch_catchment_area_iep_pct</th>\n",
       "      <th>sch_catchment_area_minority_pct</th>\n",
       "      <th>sch_catchment_area_frpl_pct</th>\n",
       "    </tr>\n",
       "  </thead>\n",
       "  <tbody>\n",
       "    <tr>\n",
       "      <th>0</th>\n",
       "      <td>100001</td>\n",
       "      <td>2017</td>\n",
       "      <td>1303122</td>\n",
       "      <td>Birch Middle</td>\n",
       "      <td>Male</td>\n",
       "      <td>1972</td>\n",
       "      <td>African American</td>\n",
       "      <td>Bachelor</td>\n",
       "      <td>0.0</td>\n",
       "      <td>1</td>\n",
       "      <td>...</td>\n",
       "      <td>0</td>\n",
       "      <td>0</td>\n",
       "      <td>0</td>\n",
       "      <td>0</td>\n",
       "      <td>-0.065031</td>\n",
       "      <td>-0.041866</td>\n",
       "      <td>1227</td>\n",
       "      <td>15.428019</td>\n",
       "      <td>46.461390</td>\n",
       "      <td>32.468161</td>\n",
       "    </tr>\n",
       "    <tr>\n",
       "      <th>1</th>\n",
       "      <td>100001</td>\n",
       "      <td>2018</td>\n",
       "      <td>1303122</td>\n",
       "      <td>Birch Middle</td>\n",
       "      <td>Male</td>\n",
       "      <td>1972</td>\n",
       "      <td>African American</td>\n",
       "      <td>Bachelor</td>\n",
       "      <td>0.0</td>\n",
       "      <td>0</td>\n",
       "      <td>...</td>\n",
       "      <td>0</td>\n",
       "      <td>0</td>\n",
       "      <td>0</td>\n",
       "      <td>0</td>\n",
       "      <td>-0.066350</td>\n",
       "      <td>-0.043148</td>\n",
       "      <td>1295</td>\n",
       "      <td>15.140032</td>\n",
       "      <td>41.834311</td>\n",
       "      <td>32.229823</td>\n",
       "    </tr>\n",
       "    <tr>\n",
       "      <th>2</th>\n",
       "      <td>100005</td>\n",
       "      <td>2016</td>\n",
       "      <td>1301939</td>\n",
       "      <td>Valley Middle</td>\n",
       "      <td>Male</td>\n",
       "      <td>1977</td>\n",
       "      <td>White</td>\n",
       "      <td>Master</td>\n",
       "      <td>0.0</td>\n",
       "      <td>0</td>\n",
       "      <td>...</td>\n",
       "      <td>0</td>\n",
       "      <td>0</td>\n",
       "      <td>0</td>\n",
       "      <td>0</td>\n",
       "      <td>-0.237181</td>\n",
       "      <td>-0.236813</td>\n",
       "      <td>1125</td>\n",
       "      <td>15.054694</td>\n",
       "      <td>57.302072</td>\n",
       "      <td>40.702964</td>\n",
       "    </tr>\n",
       "    <tr>\n",
       "      <th>3</th>\n",
       "      <td>100005</td>\n",
       "      <td>2017</td>\n",
       "      <td>1301939</td>\n",
       "      <td>Valley Middle</td>\n",
       "      <td>Male</td>\n",
       "      <td>1977</td>\n",
       "      <td>White</td>\n",
       "      <td>Master</td>\n",
       "      <td>0.0</td>\n",
       "      <td>0</td>\n",
       "      <td>...</td>\n",
       "      <td>0</td>\n",
       "      <td>0</td>\n",
       "      <td>0</td>\n",
       "      <td>0</td>\n",
       "      <td>-0.198529</td>\n",
       "      <td>-0.212729</td>\n",
       "      <td>1147</td>\n",
       "      <td>13.166557</td>\n",
       "      <td>53.752469</td>\n",
       "      <td>37.574062</td>\n",
       "    </tr>\n",
       "    <tr>\n",
       "      <th>4</th>\n",
       "      <td>100005</td>\n",
       "      <td>2018</td>\n",
       "      <td>1301939</td>\n",
       "      <td>Valley Middle</td>\n",
       "      <td>Male</td>\n",
       "      <td>1977</td>\n",
       "      <td>White</td>\n",
       "      <td>Master</td>\n",
       "      <td>NaN</td>\n",
       "      <td>0</td>\n",
       "      <td>...</td>\n",
       "      <td>0</td>\n",
       "      <td>0</td>\n",
       "      <td>0</td>\n",
       "      <td>0</td>\n",
       "      <td>-0.199817</td>\n",
       "      <td>-0.201956</td>\n",
       "      <td>1148</td>\n",
       "      <td>13.126002</td>\n",
       "      <td>54.419366</td>\n",
       "      <td>39.466935</td>\n",
       "    </tr>\n",
       "    <tr>\n",
       "      <th>...</th>\n",
       "      <td>...</td>\n",
       "      <td>...</td>\n",
       "      <td>...</td>\n",
       "      <td>...</td>\n",
       "      <td>...</td>\n",
       "      <td>...</td>\n",
       "      <td>...</td>\n",
       "      <td>...</td>\n",
       "      <td>...</td>\n",
       "      <td>...</td>\n",
       "      <td>...</td>\n",
       "      <td>...</td>\n",
       "      <td>...</td>\n",
       "      <td>...</td>\n",
       "      <td>...</td>\n",
       "      <td>...</td>\n",
       "      <td>...</td>\n",
       "      <td>...</td>\n",
       "      <td>...</td>\n",
       "      <td>...</td>\n",
       "      <td>...</td>\n",
       "    </tr>\n",
       "    <tr>\n",
       "      <th>6443</th>\n",
       "      <td>113886</td>\n",
       "      <td>2018</td>\n",
       "      <td>1300813</td>\n",
       "      <td>Sandpiper Middle</td>\n",
       "      <td>Female</td>\n",
       "      <td>1982</td>\n",
       "      <td>White</td>\n",
       "      <td>Master</td>\n",
       "      <td>0.0</td>\n",
       "      <td>1</td>\n",
       "      <td>...</td>\n",
       "      <td>0</td>\n",
       "      <td>0</td>\n",
       "      <td>0</td>\n",
       "      <td>1</td>\n",
       "      <td>-0.251533</td>\n",
       "      <td>-0.278325</td>\n",
       "      <td>1145</td>\n",
       "      <td>17.324748</td>\n",
       "      <td>53.190664</td>\n",
       "      <td>42.072652</td>\n",
       "    </tr>\n",
       "    <tr>\n",
       "      <th>6444</th>\n",
       "      <td>113887</td>\n",
       "      <td>2018</td>\n",
       "      <td>1301937</td>\n",
       "      <td>Marigold Middle</td>\n",
       "      <td>Male</td>\n",
       "      <td>1978</td>\n",
       "      <td>White</td>\n",
       "      <td>Bachelor</td>\n",
       "      <td>0.0</td>\n",
       "      <td>1</td>\n",
       "      <td>...</td>\n",
       "      <td>0</td>\n",
       "      <td>0</td>\n",
       "      <td>0</td>\n",
       "      <td>0</td>\n",
       "      <td>0.006331</td>\n",
       "      <td>-0.066175</td>\n",
       "      <td>1221</td>\n",
       "      <td>12.910608</td>\n",
       "      <td>46.270348</td>\n",
       "      <td>29.225137</td>\n",
       "    </tr>\n",
       "    <tr>\n",
       "      <th>6445</th>\n",
       "      <td>113894</td>\n",
       "      <td>2016</td>\n",
       "      <td>1302626</td>\n",
       "      <td>Cedar Middle</td>\n",
       "      <td>Male</td>\n",
       "      <td>1964</td>\n",
       "      <td>White</td>\n",
       "      <td>Bachelor</td>\n",
       "      <td>0.0</td>\n",
       "      <td>0</td>\n",
       "      <td>...</td>\n",
       "      <td>0</td>\n",
       "      <td>0</td>\n",
       "      <td>0</td>\n",
       "      <td>1</td>\n",
       "      <td>-0.025922</td>\n",
       "      <td>-0.060332</td>\n",
       "      <td>1293</td>\n",
       "      <td>14.554415</td>\n",
       "      <td>48.662189</td>\n",
       "      <td>29.943553</td>\n",
       "    </tr>\n",
       "    <tr>\n",
       "      <th>6446</th>\n",
       "      <td>113894</td>\n",
       "      <td>2017</td>\n",
       "      <td>1302626</td>\n",
       "      <td>Cedar Middle</td>\n",
       "      <td>Male</td>\n",
       "      <td>1964</td>\n",
       "      <td>White</td>\n",
       "      <td>Bachelor</td>\n",
       "      <td>0.0</td>\n",
       "      <td>0</td>\n",
       "      <td>...</td>\n",
       "      <td>0</td>\n",
       "      <td>0</td>\n",
       "      <td>0</td>\n",
       "      <td>1</td>\n",
       "      <td>-0.026862</td>\n",
       "      <td>-0.061798</td>\n",
       "      <td>1360</td>\n",
       "      <td>16.600123</td>\n",
       "      <td>47.834767</td>\n",
       "      <td>29.837224</td>\n",
       "    </tr>\n",
       "    <tr>\n",
       "      <th>6447</th>\n",
       "      <td>113894</td>\n",
       "      <td>2018</td>\n",
       "      <td>1302626</td>\n",
       "      <td>Cedar Middle</td>\n",
       "      <td>Male</td>\n",
       "      <td>1964</td>\n",
       "      <td>White</td>\n",
       "      <td>Bachelor</td>\n",
       "      <td>0.0</td>\n",
       "      <td>0</td>\n",
       "      <td>...</td>\n",
       "      <td>0</td>\n",
       "      <td>0</td>\n",
       "      <td>0</td>\n",
       "      <td>1</td>\n",
       "      <td>-0.027279</td>\n",
       "      <td>-0.066466</td>\n",
       "      <td>1356</td>\n",
       "      <td>16.343877</td>\n",
       "      <td>44.677753</td>\n",
       "      <td>28.636314</td>\n",
       "    </tr>\n",
       "  </tbody>\n",
       "</table>\n",
       "<p>6448 rows × 28 columns</p>\n",
       "</div>"
      ],
      "text/plain": [
       "         tid  school_year  school_code       school_name  t_male  \\\n",
       "0     100001         2017      1303122      Birch Middle    Male   \n",
       "1     100001         2018      1303122      Birch Middle    Male   \n",
       "2     100005         2016      1301939     Valley Middle    Male   \n",
       "3     100005         2017      1301939     Valley Middle    Male   \n",
       "4     100005         2018      1301939     Valley Middle    Male   \n",
       "...      ...          ...          ...               ...     ...   \n",
       "6443  113886         2018      1300813  Sandpiper Middle  Female   \n",
       "6444  113887         2018      1301937   Marigold Middle    Male   \n",
       "6445  113894         2016      1302626      Cedar Middle    Male   \n",
       "6446  113894         2017      1302626      Cedar Middle    Male   \n",
       "6447  113894         2018      1302626      Cedar Middle    Male   \n",
       "\n",
       "      t_birth_year  t_race_ethnicity t_highest_degree  t_nbpts  t_new_hire  \\\n",
       "0             1972  African American         Bachelor      0.0           1   \n",
       "1             1972  African American         Bachelor      0.0           0   \n",
       "2             1977             White           Master      0.0           0   \n",
       "3             1977             White           Master      0.0           0   \n",
       "4             1977             White           Master      NaN           0   \n",
       "...            ...               ...              ...      ...         ...   \n",
       "6443          1982             White           Master      0.0           1   \n",
       "6444          1978             White         Bachelor      0.0           1   \n",
       "6445          1964             White         Bachelor      0.0           0   \n",
       "6446          1964             White         Bachelor      0.0           0   \n",
       "6447          1964             White         Bachelor      0.0           0   \n",
       "\n",
       "      ...  t_transfer  t_leave sch_magnet  sch_year_round  sch_ela_avg  \\\n",
       "0     ...           0        0          0               0    -0.065031   \n",
       "1     ...           0        0          0               0    -0.066350   \n",
       "2     ...           0        0          0               0    -0.237181   \n",
       "3     ...           0        0          0               0    -0.198529   \n",
       "4     ...           0        0          0               0    -0.199817   \n",
       "...   ...         ...      ...        ...             ...          ...   \n",
       "6443  ...           0        0          0               1    -0.251533   \n",
       "6444  ...           0        0          0               0     0.006331   \n",
       "6445  ...           0        0          0               1    -0.025922   \n",
       "6446  ...           0        0          0               1    -0.026862   \n",
       "6447  ...           0        0          0               1    -0.027279   \n",
       "\n",
       "     sch_math_avg sch_enrollment  sch_catchment_area_iep_pct  \\\n",
       "0       -0.041866           1227                   15.428019   \n",
       "1       -0.043148           1295                   15.140032   \n",
       "2       -0.236813           1125                   15.054694   \n",
       "3       -0.212729           1147                   13.166557   \n",
       "4       -0.201956           1148                   13.126002   \n",
       "...           ...            ...                         ...   \n",
       "6443    -0.278325           1145                   17.324748   \n",
       "6444    -0.066175           1221                   12.910608   \n",
       "6445    -0.060332           1293                   14.554415   \n",
       "6446    -0.061798           1360                   16.600123   \n",
       "6447    -0.066466           1356                   16.343877   \n",
       "\n",
       "      sch_catchment_area_minority_pct  sch_catchment_area_frpl_pct  \n",
       "0                           46.461390                    32.468161  \n",
       "1                           41.834311                    32.229823  \n",
       "2                           57.302072                    40.702964  \n",
       "3                           53.752469                    37.574062  \n",
       "4                           54.419366                    39.466935  \n",
       "...                               ...                          ...  \n",
       "6443                        53.190664                    42.072652  \n",
       "6444                        46.270348                    29.225137  \n",
       "6445                        48.662189                    29.943553  \n",
       "6446                        47.834767                    29.837224  \n",
       "6447                        44.677753                    28.636314  \n",
       "\n",
       "[6448 rows x 28 columns]"
      ]
     },
     "execution_count": 146,
     "metadata": {},
     "output_type": "execute_result"
    }
   ],
   "source": [
    "all_data_df"
   ]
  },
  {
   "cell_type": "code",
   "execution_count": 115,
   "metadata": {},
   "outputs": [],
   "source": [
    "include =['object', 'float', 'int'] \n"
   ]
  },
  {
   "cell_type": "code",
   "execution_count": 116,
   "metadata": {},
   "outputs": [
    {
     "data": {
      "text/plain": [
       "<matplotlib.axes._subplots.AxesSubplot at 0x7fad28c4f2d0>"
      ]
     },
     "execution_count": 116,
     "metadata": {},
     "output_type": "execute_result"
    },
    {
     "data": {
      "image/png": "[encoded data removed]",
      "text/plain": [
       "<Figure size 432x288 with 1 Axes>"
      ]
     },
     "metadata": {
      "needs_background": "light"
     },
     "output_type": "display_data"
    }
   ],
   "source": [
    "# Snapshot of teacher diversity\n",
    "\n",
    "all_data_df.groupby('school_name')['t_race_ethnicity'].nunique().plot(kind='bar')\n"
   ]
  },
  {
   "cell_type": "code",
   "execution_count": 117,
   "metadata": {},
   "outputs": [
    {
     "data": {
      "text/plain": [
       "<matplotlib.axes._subplots.AxesSubplot at 0x7fad28997f90>"
      ]
     },
     "execution_count": 117,
     "metadata": {},
     "output_type": "execute_result"
    },
    {
     "data": {
      "image/png": "[encoded data removed]",
      "text/plain": [
       "<Figure size 432x288 with 1 Axes>"
      ]
     },
     "metadata": {
      "needs_background": "light"
     },
     "output_type": "display_data"
    }
   ],
   "source": [
    "\n",
    "# Which schools have magnets?\n",
    "\n",
    "all_data_df.groupby('school_name')['sch_magnet'].sum().plot(kind='bar')\n"
   ]
  },
  {
   "cell_type": "markdown",
   "metadata": {},
   "source": [
    "## Clean magnet schools from dataset\n",
    "\n"
   ]
  },
  {
   "cell_type": "code",
   "execution_count": 119,
   "metadata": {},
   "outputs": [
    {
     "name": "stderr",
     "output_type": "stream",
     "text": [
      "/Users/ednovate/anaconda3/lib/python3.7/site-packages/ipykernel_launcher.py:1: VisibleDeprecationWarning: Reading unicode strings without specifying the encoding argument is deprecated. Set the encoding, use None for the system default.\n",
      "  \"\"\"Entry point for launching an IPython kernel.\n"
     ]
    }
   ],
   "source": [
    "# clean using numpy\n",
    "\n",
    "all_data_df = np.genfromtxt('/Users/ednovate/Downloads/DFCM/final1.csv',delimiter=',',dtype=None)"
   ]
  },
  {
   "cell_type": "code",
   "execution_count": 120,
   "metadata": {},
   "outputs": [
    {
     "data": {
      "text/plain": [
       "(6449, 28)"
      ]
     },
     "execution_count": 120,
     "metadata": {},
     "output_type": "execute_result"
    }
   ],
   "source": [
    "np.shape(all_data_df)"
   ]
  },
  {
   "cell_type": "code",
   "execution_count": 121,
   "metadata": {},
   "outputs": [
    {
     "data": {
      "text/plain": [
       "1510.0"
      ]
     },
     "execution_count": 121,
     "metadata": {},
     "output_type": "execute_result"
    }
   ],
   "source": [
    "# total magnet teachers, just using to verify cleaning is successful\n",
    "\n",
    "mag = all_data_df[1:,20]\n",
    "mag = np.array(mag).astype(np.float)\n",
    "np.sum(mag)"
   ]
  },
  {
   "cell_type": "code",
   "execution_count": 122,
   "metadata": {},
   "outputs": [],
   "source": [
    "no_mag = []\n",
    "\n",
    "for i in range(len(all_data_df)):\n",
    "        temp = all_data_df[i,:]\n",
    "\n",
    "        if (all_data_df[i,3] != 'Azalea Middle') and (all_data_df[i,3] != 'Bennett Middle')  and (all_data_df[i,3] != 'Foxglove Middle') and (all_data_df[i,3] != 'Hyacinth Middle') and (all_data_df[i,3] != 'Mission Middle') and (all_data_df[i,3] != 'Pine Middle') and (all_data_df[i,3] != 'Riverside Middle') and (all_data_df[i,3] != 'Wright Middle'):\n",
    "\n",
    "            no_mag.append(temp)\n",
    "        "
   ]
  },
  {
   "cell_type": "code",
   "execution_count": 158,
   "metadata": {},
   "outputs": [
    {
     "data": {
      "text/plain": [
       "(4939, 28)"
      ]
     },
     "execution_count": 158,
     "metadata": {},
     "output_type": "execute_result"
    }
   ],
   "source": [
    "np.shape(no_mag)"
   ]
  },
  {
   "cell_type": "code",
   "execution_count": 159,
   "metadata": {},
   "outputs": [
    {
     "data": {
      "text/plain": [
       "array(['\\ufefftid', 'school_year', 'school_code', 'school_name', 't_male',\n",
       "       't_birth_year', 't_race_ethnicity', 't_highest_degree', 't_nbpts',\n",
       "       't_new_hire', 't_novice', 't_experience', 't_job_area',\n",
       "       't_tenured', 't_salary', 't_eval_principal_observation',\n",
       "       't_eval_student_growth', 't_stay', 't_transfer', 't_leave',\n",
       "       'sch_magnet', 'sch_year_round', 'sch_ela_avg', 'sch_math_avg',\n",
       "       'sch_enrollment', 'sch_catchment_area_iep_pct',\n",
       "       'sch_catchment_area_minority_pct', 'sch_catchment_area_frpl_pct'],\n",
       "      dtype='<U35')"
      ]
     },
     "execution_count": 159,
     "metadata": {},
     "output_type": "execute_result"
    }
   ],
   "source": [
    "no_mag[0]"
   ]
  },
  {
   "cell_type": "code",
   "execution_count": 160,
   "metadata": {},
   "outputs": [],
   "source": [
    "# school by school Average IEP per teacher\n",
    "\n",
    "#convert back to df\n",
    "# make first row labels again\n",
    "\n",
    "no_mag_df = pd.DataFrame(no_mag, columns=no_mag[0])"
   ]
  },
  {
   "cell_type": "code",
   "execution_count": null,
   "metadata": {},
   "outputs": [],
   "source": [
    "no_mag_df"
   ]
  },
  {
   "cell_type": "code",
   "execution_count": 194,
   "metadata": {},
   "outputs": [],
   "source": [
    "#change pesky string variables to numeric to allow for inference\n",
    "\n",
    "no_mag_df['sch_catchment_area_iep_pct'] = pd.to_numeric(no_mag_df['sch_catchment_area_iep_pct'], errors = 'coerce')"
   ]
  },
  {
   "cell_type": "code",
   "execution_count": 202,
   "metadata": {},
   "outputs": [],
   "source": [
    "#mean IEP pct \n",
    "\n",
    "group_mean_iep = no_mag_df.groupby(['school_name'])['sch_catchment_area_iep_pct'].mean()\n"
   ]
  },
  {
   "cell_type": "code",
   "execution_count": 203,
   "metadata": {},
   "outputs": [
    {
     "data": {
      "text/plain": [
       "school_name\n",
       "Acacia Middle        11.874505\n",
       "Beacon Middle        15.270374\n",
       "Birch Middle         14.465227\n",
       "Brook Middle         11.370822\n",
       "Camellia Middle      17.658203\n",
       "Cedar Middle         15.886952\n",
       "Daffodil Middle      17.679650\n",
       "Englewood Middle     17.947320\n",
       "Justice Middle       18.049718\n",
       "Lakeville Middle     19.787777\n",
       "Laurel Middle        16.539893\n",
       "Magnolia Middle      13.717850\n",
       "Maple Middle         14.088082\n",
       "Marigold Middle      12.095279\n",
       "Oak Middle           15.888473\n",
       "Pleasant Middle       8.551246\n",
       "Sandpiper Middle     16.661487\n",
       "Sequoia Middle       16.223565\n",
       "Sutherland Middle    13.272693\n",
       "Valley Middle        13.854976\n",
       "Village Middle       13.456495\n",
       "Waverley Middle      17.752612\n",
       "Wellington Middle    11.168077\n",
       "Wharton Middle       13.318624\n",
       "Wilkins Middle       14.466700\n",
       "school_name                NaN\n",
       "Name: sch_catchment_area_iep_pct, dtype: float64"
      ]
     },
     "execution_count": 203,
     "metadata": {},
     "output_type": "execute_result"
    }
   ],
   "source": [
    "# for graphs\n",
    "group_mean_iep"
   ]
  },
  {
   "cell_type": "code",
   "execution_count": null,
   "metadata": {},
   "outputs": [],
   "source": [
    "\n",
    "group_mean_sg = no_mag_df.groupby(['school_name'])['t_eval_student_growth'].mean()\n"
   ]
  },
  {
   "cell_type": "code",
   "execution_count": 212,
   "metadata": {},
   "outputs": [],
   "source": [
    "# obtain parameter estimate Beta1 for (x,y)->('sch_catchment_area_iep_pct', [ 'sch_ela_avg' + 'sch_math_avg')/2 ])\n",
    "\n",
    "no_mag_df['sch_math_avg'] = pd.to_numeric(no_mag_df['sch_math_avg'], errors = 'coerce')\n",
    "\n",
    "test_score_math = no_mag_df['sch_math_avg']\n"
   ]
  },
  {
   "cell_type": "code",
   "execution_count": 214,
   "metadata": {},
   "outputs": [],
   "source": [
    "no_mag_df['sch_ela_avg'] = pd.to_numeric(no_mag_df['sch_ela_avg'], errors = 'coerce')\n",
    "test_score_ela = no_mag_df['sch_ela_avg']\n"
   ]
  },
  {
   "cell_type": "code",
   "execution_count": 215,
   "metadata": {},
   "outputs": [],
   "source": [
    "# create test score average between math and ela\n",
    "\n",
    "test_score_both = (test_score_math + test_score_ela)/2\n",
    "\n"
   ]
  },
  {
   "cell_type": "code",
   "execution_count": 217,
   "metadata": {},
   "outputs": [],
   "source": [
    "iep_est = no_mag_df['sch_catchment_area_iep_pct']"
   ]
  },
  {
   "cell_type": "code",
   "execution_count": 275,
   "metadata": {},
   "outputs": [
    {
     "data": {
      "text/plain": [
       "<matplotlib.collections.PathCollection at 0x7fad10b74a50>"
      ]
     },
     "execution_count": 275,
     "metadata": {},
     "output_type": "execute_result"
    },
    {
     "data": {
      "image/png": "[encoded data removed]",
      "text/plain": [
       "<Figure size 432x288 with 1 Axes>"
      ]
     },
     "metadata": {
      "needs_background": "light"
     },
     "output_type": "display_data"
    }
   ],
   "source": [
    "#mean test_score abline\n",
    "\n",
    "mean_test_both = test_score_both.mean()\n",
    "plt.axhline(y=mean_test_both, color='r', linestyle='dotted')\n",
    "plt.xlabel('sch_catchment_area_iep_pct')\n",
    "plt.ylabel('test_score_both')\n",
    "plt.scatter(  iep_est, test_score_both)\n",
    "\n"
   ]
  },
  {
   "cell_type": "code",
   "execution_count": 276,
   "metadata": {},
   "outputs": [
    {
     "data": {
      "text/plain": [
       "<matplotlib.collections.PathCollection at 0x7fad10b27f10>"
      ]
     },
     "execution_count": 276,
     "metadata": {},
     "output_type": "execute_result"
    },
    {
     "data": {
      "image/png": "[encoded data removed]",
      "text/plain": [
       "<Figure size 432x288 with 1 Axes>"
      ]
     },
     "metadata": {
      "needs_background": "light"
     },
     "output_type": "display_data"
    }
   ],
   "source": [
    "\n",
    "no_mag_df['sch_catchment_area_frpl_pct'] = pd.to_numeric(no_mag_df['sch_catchment_area_frpl_pct'], errors = 'coerce')\n",
    "free_reduced = no_mag_df['sch_catchment_area_frpl_pct']\n",
    "\n",
    "#mean test_score abline\n",
    "mean_test_both = test_score_both.mean()\n",
    "plt.axhline(y=mean_test_both, color='r', linestyle='dotted')\n",
    "plt.xlabel('sch_catchment_area_frpl_pct')\n",
    "plt.ylabel('test_score_both')\n",
    "\n",
    "plt.scatter(  free_reduced, test_score_both)"
   ]
  },
  {
   "cell_type": "code",
   "execution_count": 244,
   "metadata": {},
   "outputs": [],
   "source": [
    "# add new column to dataframe for the test_score_both metric\n",
    "no_mag_df[ 'test_score_both'] = test_score_both\n",
    "\n"
   ]
  },
  {
   "cell_type": "code",
   "execution_count": 245,
   "metadata": {},
   "outputs": [
    {
     "data": {
      "text/plain": [
       "(4939, 29)"
      ]
     },
     "execution_count": 245,
     "metadata": {},
     "output_type": "execute_result"
    }
   ],
   "source": [
    "# check to make sure it was added\n",
    "np.shape(no_mag_df)"
   ]
  },
  {
   "cell_type": "markdown",
   "metadata": {},
   "source": [
    "## VIF test for collinearity\n",
    "\n",
    "My suspicion is that free and reduced lunch and IEP percentage are highly correlated, so I administered a VIF test for collinearity. If this is the case, I should probably only pick one for a linear model."
   ]
  },
  {
   "cell_type": "code",
   "execution_count": 252,
   "metadata": {},
   "outputs": [],
   "source": [
    "\n",
    "from statsmodels.stats.outliers_influence import variance_inflation_factor \n",
    "  \n",
    "no_nan_df = no_mag_df[['test_score_both', 'sch_catchment_area_frpl_pct', 'sch_catchment_area_iep_pct' ]] .dropna() #subset the dataframe\n",
    "  \n",
    "# the independent variables set \n",
    "X = no_nan_df[['test_score_both', 'sch_catchment_area_frpl_pct', 'sch_catchment_area_iep_pct' ]] \n",
    "\n",
    "type(X)\n",
    "\n",
    "# VIF dataframe \n",
    "vif_data = pd.DataFrame() \n",
    "vif_data[\"feature\"] = X.columns \n",
    "  \n",
    "# calculating VIF for each feature \n",
    "vif_data[\"VIF\"] = [variance_inflation_factor(X.values, i) for i in range(len(X.columns))] \n",
    "  \n"
   ]
  },
  {
   "cell_type": "markdown",
   "metadata": {},
   "source": [
    "Strong evidence for high multicollinearity, so we should see which one between 'sch_catchment_area_frpl_pct' and 'sch_catchment_area_iep_pct'\n",
    "explains most of the variance"
   ]
  },
  {
   "cell_type": "code",
   "execution_count": 253,
   "metadata": {},
   "outputs": [
    {
     "name": "stdout",
     "output_type": "stream",
     "text": [
      "                       feature        VIF\n",
      "0              test_score_both   4.799583\n",
      "1  sch_catchment_area_frpl_pct  52.874389\n",
      "2   sch_catchment_area_iep_pct  51.580302\n"
     ]
    }
   ],
   "source": [
    "# Very high evidence of multicollinearity between free and reduced lunch and IEP.\n",
    "\n",
    "print(vif_data)"
   ]
  },
  {
   "cell_type": "code",
   "execution_count": 265,
   "metadata": {},
   "outputs": [],
   "source": [
    "\n",
    "# Which variable to use? Compare r-squared \n",
    "import statsmodels.api as sm\n",
    "from statsmodels.formula.api import ols\n",
    "from statsmodels.sandbox.regression.predstd import wls_prediction_std\n"
   ]
  },
  {
   "cell_type": "markdown",
   "metadata": {},
   "source": [
    "## Linear model for test_score_both ~ sch_catchment_area_frpl_pct\n"
   ]
  },
  {
   "cell_type": "code",
   "execution_count": 270,
   "metadata": {},
   "outputs": [],
   "source": [
    "# fit our model with .fit() and show results\n",
    "# we use statsmodels' formula API to invoke the syntax below,\n",
    "# where we write out the formula using ~\n",
    "linear_model_frpl = ols(\"test_score_both ~ sch_catchment_area_frpl_pct\", data=no_mag_df).fit()\n",
    "\n",
    "# summarize our model\n",
    "linear_model_summary_frpl = linear_model_frpl.summary()\n"
   ]
  },
  {
   "cell_type": "markdown",
   "metadata": {},
   "source": [
    "R-squared:\t0.836, very high"
   ]
  },
  {
   "cell_type": "code",
   "execution_count": 271,
   "metadata": {},
   "outputs": [
    {
     "data": {
      "text/html": [
       "<table class=\"simpletable\">\n",
       "<caption>OLS Regression Results</caption>\n",
       "<tr>\n",
       "  <th>Dep. Variable:</th>     <td>test_score_both</td> <th>  R-squared:         </th> <td>   0.836</td> \n",
       "</tr>\n",
       "<tr>\n",
       "  <th>Model:</th>                   <td>OLS</td>       <th>  Adj. R-squared:    </th> <td>   0.836</td> \n",
       "</tr>\n",
       "<tr>\n",
       "  <th>Method:</th>             <td>Least Squares</td>  <th>  F-statistic:       </th> <td>2.507e+04</td>\n",
       "</tr>\n",
       "<tr>\n",
       "  <th>Date:</th>             <td>Mon, 16 Nov 2020</td> <th>  Prob (F-statistic):</th>  <td>  0.00</td>  \n",
       "</tr>\n",
       "<tr>\n",
       "  <th>Time:</th>                 <td>09:48:34</td>     <th>  Log-Likelihood:    </th> <td>  3712.5</td> \n",
       "</tr>\n",
       "<tr>\n",
       "  <th>No. Observations:</th>      <td>  4904</td>      <th>  AIC:               </th> <td>  -7421.</td> \n",
       "</tr>\n",
       "<tr>\n",
       "  <th>Df Residuals:</th>          <td>  4902</td>      <th>  BIC:               </th> <td>  -7408.</td> \n",
       "</tr>\n",
       "<tr>\n",
       "  <th>Df Model:</th>              <td>     1</td>      <th>                     </th>     <td> </td>    \n",
       "</tr>\n",
       "<tr>\n",
       "  <th>Covariance Type:</th>      <td>nonrobust</td>    <th>                     </th>     <td> </td>    \n",
       "</tr>\n",
       "</table>\n",
       "<table class=\"simpletable\">\n",
       "<tr>\n",
       "               <td></td>                  <th>coef</th>     <th>std err</th>      <th>t</th>      <th>P>|t|</th>  <th>[0.025</th>    <th>0.975]</th>  \n",
       "</tr>\n",
       "<tr>\n",
       "  <th>Intercept</th>                   <td>    0.6525</td> <td>    0.004</td> <td>  158.686</td> <td> 0.000</td> <td>    0.644</td> <td>    0.661</td>\n",
       "</tr>\n",
       "<tr>\n",
       "  <th>sch_catchment_area_frpl_pct</th> <td>   -0.0204</td> <td>    0.000</td> <td> -158.337</td> <td> 0.000</td> <td>   -0.021</td> <td>   -0.020</td>\n",
       "</tr>\n",
       "</table>\n",
       "<table class=\"simpletable\">\n",
       "<tr>\n",
       "  <th>Omnibus:</th>       <td>269.567</td> <th>  Durbin-Watson:     </th> <td>   1.311</td>\n",
       "</tr>\n",
       "<tr>\n",
       "  <th>Prob(Omnibus):</th> <td> 0.000</td>  <th>  Jarque-Bera (JB):  </th> <td> 405.275</td>\n",
       "</tr>\n",
       "<tr>\n",
       "  <th>Skew:</th>          <td> 0.476</td>  <th>  Prob(JB):          </th> <td>9.90e-89</td>\n",
       "</tr>\n",
       "<tr>\n",
       "  <th>Kurtosis:</th>      <td> 4.037</td>  <th>  Cond. No.          </th> <td>    80.9</td>\n",
       "</tr>\n",
       "</table><br/><br/>Warnings:<br/>[1] Standard Errors assume that the covariance matrix of the errors is correctly specified."
      ],
      "text/plain": [
       "<class 'statsmodels.iolib.summary.Summary'>\n",
       "\"\"\"\n",
       "                            OLS Regression Results                            \n",
       "==============================================================================\n",
       "Dep. Variable:        test_score_both   R-squared:                       0.836\n",
       "Model:                            OLS   Adj. R-squared:                  0.836\n",
       "Method:                 Least Squares   F-statistic:                 2.507e+04\n",
       "Date:                Mon, 16 Nov 2020   Prob (F-statistic):               0.00\n",
       "Time:                        09:48:34   Log-Likelihood:                 3712.5\n",
       "No. Observations:                4904   AIC:                            -7421.\n",
       "Df Residuals:                    4902   BIC:                            -7408.\n",
       "Df Model:                           1                                         \n",
       "Covariance Type:            nonrobust                                         \n",
       "===============================================================================================\n",
       "                                  coef    std err          t      P>|t|      [0.025      0.975]\n",
       "-----------------------------------------------------------------------------------------------\n",
       "Intercept                       0.6525      0.004    158.686      0.000       0.644       0.661\n",
       "sch_catchment_area_frpl_pct    -0.0204      0.000   -158.337      0.000      -0.021      -0.020\n",
       "==============================================================================\n",
       "Omnibus:                      269.567   Durbin-Watson:                   1.311\n",
       "Prob(Omnibus):                  0.000   Jarque-Bera (JB):              405.275\n",
       "Skew:                           0.476   Prob(JB):                     9.90e-89\n",
       "Kurtosis:                       4.037   Cond. No.                         80.9\n",
       "==============================================================================\n",
       "\n",
       "Warnings:\n",
       "[1] Standard Errors assume that the covariance matrix of the errors is correctly specified.\n",
       "\"\"\""
      ]
     },
     "execution_count": 271,
     "metadata": {},
     "output_type": "execute_result"
    }
   ],
   "source": [
    "linear_model_summary_frpl"
   ]
  },
  {
   "cell_type": "markdown",
   "metadata": {},
   "source": [
    "## Linear model for test_score_both ~ sch_catchment_area_iep_pct\n"
   ]
  },
  {
   "cell_type": "code",
   "execution_count": 272,
   "metadata": {},
   "outputs": [],
   "source": [
    "# fit our model with .fit() and show results\n",
    "# we use statsmodels' formula API to invoke the syntax below,\n",
    "# where we write out the formula using ~\n",
    "linear_model_iep = ols(\"test_score_both ~ sch_catchment_area_iep_pct\", data=no_mag_df).fit()\n",
    "\n",
    "# summarize our model\n",
    "linear_model_summary_iep = linear_model_iep.summary()\n"
   ]
  },
  {
   "cell_type": "markdown",
   "metadata": {},
   "source": [
    "R-squared:\t0.270, which means that we should stick with percent on free and reduced lunch as our predictor as it explains more of the variance"
   ]
  },
  {
   "cell_type": "code",
   "execution_count": 273,
   "metadata": {},
   "outputs": [
    {
     "data": {
      "text/html": [
       "<table class=\"simpletable\">\n",
       "<caption>OLS Regression Results</caption>\n",
       "<tr>\n",
       "  <th>Dep. Variable:</th>     <td>test_score_both</td> <th>  R-squared:         </th> <td>   0.270</td>\n",
       "</tr>\n",
       "<tr>\n",
       "  <th>Model:</th>                   <td>OLS</td>       <th>  Adj. R-squared:    </th> <td>   0.270</td>\n",
       "</tr>\n",
       "<tr>\n",
       "  <th>Method:</th>             <td>Least Squares</td>  <th>  F-statistic:       </th> <td>   1813.</td>\n",
       "</tr>\n",
       "<tr>\n",
       "  <th>Date:</th>             <td>Mon, 16 Nov 2020</td> <th>  Prob (F-statistic):</th>  <td>  0.00</td> \n",
       "</tr>\n",
       "<tr>\n",
       "  <th>Time:</th>                 <td>09:49:33</td>     <th>  Log-Likelihood:    </th> <td>  44.564</td>\n",
       "</tr>\n",
       "<tr>\n",
       "  <th>No. Observations:</th>      <td>  4904</td>      <th>  AIC:               </th> <td>  -85.13</td>\n",
       "</tr>\n",
       "<tr>\n",
       "  <th>Df Residuals:</th>          <td>  4902</td>      <th>  BIC:               </th> <td>  -72.13</td>\n",
       "</tr>\n",
       "<tr>\n",
       "  <th>Df Model:</th>              <td>     1</td>      <th>                     </th>     <td> </td>   \n",
       "</tr>\n",
       "<tr>\n",
       "  <th>Covariance Type:</th>      <td>nonrobust</td>    <th>                     </th>     <td> </td>   \n",
       "</tr>\n",
       "</table>\n",
       "<table class=\"simpletable\">\n",
       "<tr>\n",
       "               <td></td>                 <th>coef</th>     <th>std err</th>      <th>t</th>      <th>P>|t|</th>  <th>[0.025</th>    <th>0.975]</th>  \n",
       "</tr>\n",
       "<tr>\n",
       "  <th>Intercept</th>                  <td>    0.8135</td> <td>    0.018</td> <td>   44.800</td> <td> 0.000</td> <td>    0.778</td> <td>    0.849</td>\n",
       "</tr>\n",
       "<tr>\n",
       "  <th>sch_catchment_area_iep_pct</th> <td>   -0.0516</td> <td>    0.001</td> <td>  -42.581</td> <td> 0.000</td> <td>   -0.054</td> <td>   -0.049</td>\n",
       "</tr>\n",
       "</table>\n",
       "<table class=\"simpletable\">\n",
       "<tr>\n",
       "  <th>Omnibus:</th>       <td>239.295</td> <th>  Durbin-Watson:     </th> <td>   1.074</td>\n",
       "</tr>\n",
       "<tr>\n",
       "  <th>Prob(Omnibus):</th> <td> 0.000</td>  <th>  Jarque-Bera (JB):  </th> <td> 221.739</td>\n",
       "</tr>\n",
       "<tr>\n",
       "  <th>Skew:</th>          <td> 0.465</td>  <th>  Prob(JB):          </th> <td>7.08e-49</td>\n",
       "</tr>\n",
       "<tr>\n",
       "  <th>Kurtosis:</th>      <td> 2.530</td>  <th>  Cond. No.          </th> <td>    79.8</td>\n",
       "</tr>\n",
       "</table><br/><br/>Warnings:<br/>[1] Standard Errors assume that the covariance matrix of the errors is correctly specified."
      ],
      "text/plain": [
       "<class 'statsmodels.iolib.summary.Summary'>\n",
       "\"\"\"\n",
       "                            OLS Regression Results                            \n",
       "==============================================================================\n",
       "Dep. Variable:        test_score_both   R-squared:                       0.270\n",
       "Model:                            OLS   Adj. R-squared:                  0.270\n",
       "Method:                 Least Squares   F-statistic:                     1813.\n",
       "Date:                Mon, 16 Nov 2020   Prob (F-statistic):               0.00\n",
       "Time:                        09:49:33   Log-Likelihood:                 44.564\n",
       "No. Observations:                4904   AIC:                            -85.13\n",
       "Df Residuals:                    4902   BIC:                            -72.13\n",
       "Df Model:                           1                                         \n",
       "Covariance Type:            nonrobust                                         \n",
       "==============================================================================================\n",
       "                                 coef    std err          t      P>|t|      [0.025      0.975]\n",
       "----------------------------------------------------------------------------------------------\n",
       "Intercept                      0.8135      0.018     44.800      0.000       0.778       0.849\n",
       "sch_catchment_area_iep_pct    -0.0516      0.001    -42.581      0.000      -0.054      -0.049\n",
       "==============================================================================\n",
       "Omnibus:                      239.295   Durbin-Watson:                   1.074\n",
       "Prob(Omnibus):                  0.000   Jarque-Bera (JB):              221.739\n",
       "Skew:                           0.465   Prob(JB):                     7.08e-49\n",
       "Kurtosis:                       2.530   Cond. No.                         79.8\n",
       "==============================================================================\n",
       "\n",
       "Warnings:\n",
       "[1] Standard Errors assume that the covariance matrix of the errors is correctly specified.\n",
       "\"\"\""
      ]
     },
     "execution_count": 273,
     "metadata": {},
     "output_type": "execute_result"
    }
   ],
   "source": [
    "linear_model_summary_iep"
   ]
  },
  {
   "cell_type": "markdown",
   "metadata": {},
   "source": [
    "## Create a decision boundary and a new column to see which teachers are exceeding predicted test scores based on free or reduced lunch pct.\n",
    "\n",
    "The coefficients of the linear boundary below were created by the regression model : test_score_both ~ sch_catchment_area_frpl_pct. This block creates a "
   ]
  },
  {
   "cell_type": "code",
   "execution_count": 280,
   "metadata": {},
   "outputs": [
    {
     "data": {
      "text/plain": [
       "<matplotlib.collections.PathCollection at 0x7fad113dbd10>"
      ]
     },
     "execution_count": 280,
     "metadata": {},
     "output_type": "execute_result"
    },
    {
     "data": {
      "image/png": "[encoded data removed]",
      "text/plain": [
       "<Figure size 432x288 with 1 Axes>"
      ]
     },
     "metadata": {
      "needs_background": "light"
     },
     "output_type": "display_data"
    }
   ],
   "source": [
    "\n",
    "\n",
    "x = np.linspace(-15,60,100)\n",
    "y =  -0.0204*x + 0.6525\n",
    "\n",
    "plt.plot(x, y, '-y', label='y =  -0.0204*x + 0.6525')\n",
    "plt.title('Graph of regression coefficients')\n",
    "\n",
    "\n",
    "\n",
    "plt.axhline(y=mean_test_both, color='r', linestyle='dotted')\n",
    "plt.xlabel('sch_catchment_area_frpl_pct')\n",
    "plt.ylabel('test_score_both')\n",
    "\n",
    "plt.scatter(  free_reduced, test_score_both)"
   ]
  },
  {
   "cell_type": "code",
   "execution_count": 283,
   "metadata": {},
   "outputs": [],
   "source": [
    "\n",
    "decision_bound = -0.0204*no_mag_df['sch_catchment_area_frpl_pct'] + 0.6525\n",
    "\n"
   ]
  },
  {
   "cell_type": "code",
   "execution_count": 293,
   "metadata": {},
   "outputs": [],
   "source": [
    "no_mag_df['decision_bound'] = decision_bound\n",
    "\n",
    "no_mag_df['decision_bound']= pd.to_numeric(no_mag_df['decision_bound'], errors = 'coerce')\n"
   ]
  },
  {
   "cell_type": "code",
   "execution_count": 298,
   "metadata": {},
   "outputs": [],
   "source": [
    "decision_bound_vec = np.where(no_mag_df['decision_bound'] <no_mag_df['test_score_both'] , 1, 0)\n",
    "\n",
    "\n",
    "    "
   ]
  },
  {
   "cell_type": "code",
   "execution_count": 305,
   "metadata": {},
   "outputs": [],
   "source": [
    "no_mag_df['dec_bound_plus'] = decision_bound_vec"
   ]
  },
  {
   "cell_type": "code",
   "execution_count": 306,
   "metadata": {},
   "outputs": [
    {
     "data": {
      "text/plain": [
       "(4939, 31)"
      ]
     },
     "execution_count": 306,
     "metadata": {},
     "output_type": "execute_result"
    }
   ],
   "source": [
    "np.shape(no_mag_df)"
   ]
  },
  {
   "cell_type": "markdown",
   "metadata": {},
   "source": [
    "## Compare schools by how many exceed decision boundary"
   ]
  },
  {
   "cell_type": "code",
   "execution_count": 318,
   "metadata": {},
   "outputs": [
    {
     "data": {
      "text/plain": [
       "<matplotlib.axes._subplots.AxesSubplot at 0x7fad15c32d50>"
      ]
     },
     "execution_count": 318,
     "metadata": {},
     "output_type": "execute_result"
    },
    {
     "data": {
      "image/png": "[encoded data removed]",
      "text/plain": [
       "<Figure size 432x288 with 1 Axes>"
      ]
     },
     "metadata": {
      "needs_background": "light"
     },
     "output_type": "display_data"
    }
   ],
   "source": [
    "plt.ylabel('Number of teachers exceeding prediction')\n",
    "\n",
    "no_mag_df.groupby('school_name')['dec_bound_plus'].sum().plot(kind='bar')\n"
   ]
  },
  {
   "cell_type": "code",
   "execution_count": 317,
   "metadata": {},
   "outputs": [
    {
     "data": {
      "text/plain": [
       "school_name\n",
       "Acacia Middle        171\n",
       "Beacon Middle          0\n",
       "Birch Middle           0\n",
       "Brook Middle         210\n",
       "Camellia Middle      237\n",
       "Cedar Middle           0\n",
       "Daffodil Middle      150\n",
       "Englewood Middle     142\n",
       "Justice Middle       118\n",
       "Lakeville Middle     134\n",
       "Laurel Middle         89\n",
       "Magnolia Middle        0\n",
       "Maple Middle          63\n",
       "Marigold Middle        0\n",
       "Oak Middle           124\n",
       "Pleasant Middle      258\n",
       "Sandpiper Middle       0\n",
       "Sequoia Middle         0\n",
       "Sutherland Middle    243\n",
       "Valley Middle          0\n",
       "Village Middle         0\n",
       "Waverley Middle      155\n",
       "Wellington Middle      0\n",
       "Wharton Middle         0\n",
       "Wilkins Middle         0\n",
       "school_name            0\n",
       "Name: dec_bound_plus, dtype: int64"
      ]
     },
     "execution_count": 317,
     "metadata": {},
     "output_type": "execute_result"
    }
   ],
   "source": [
    "dec_bound_plus_list = no_mag_df.groupby('school_name')['dec_bound_plus'].sum()\n",
    "dec_bound_plus_list"
   ]
  },
  {
   "cell_type": "markdown",
   "metadata": {},
   "source": [
    "While it would appear that  Pleasant Middle is the clear choice, a look at their \n",
    "average IEP pct shows that they have a much lower IEP population. Camelia Middle and Southerland Middle are the best choices."
   ]
  },
  {
   "cell_type": "code",
   "execution_count": 309,
   "metadata": {},
   "outputs": [
    {
     "data": {
      "text/plain": [
       "school_name\n",
       "Acacia Middle        11.874505\n",
       "Beacon Middle        15.270374\n",
       "Birch Middle         14.465227\n",
       "Brook Middle         11.370822\n",
       "Camellia Middle      17.658203\n",
       "Cedar Middle         15.886952\n",
       "Daffodil Middle      17.679650\n",
       "Englewood Middle     17.947320\n",
       "Justice Middle       18.049718\n",
       "Lakeville Middle     19.787777\n",
       "Laurel Middle        16.539893\n",
       "Magnolia Middle      13.717850\n",
       "Maple Middle         14.088082\n",
       "Marigold Middle      12.095279\n",
       "Oak Middle           15.888473\n",
       "Pleasant Middle       8.551246\n",
       "Sandpiper Middle     16.661487\n",
       "Sequoia Middle       16.223565\n",
       "Sutherland Middle    13.272693\n",
       "Valley Middle        13.854976\n",
       "Village Middle       13.456495\n",
       "Waverley Middle      17.752612\n",
       "Wellington Middle    11.168077\n",
       "Wharton Middle       13.318624\n",
       "Wilkins Middle       14.466700\n",
       "school_name                NaN\n",
       "Name: sch_catchment_area_iep_pct, dtype: float64"
      ]
     },
     "execution_count": 309,
     "metadata": {},
     "output_type": "execute_result"
    }
   ],
   "source": [
    "group_mean_iep"
   ]
  },
  {
   "cell_type": "code",
   "execution_count": 320,
   "metadata": {},
   "outputs": [
    {
     "data": {
      "text/plain": [
       "14.841863959445789"
      ]
     },
     "execution_count": 320,
     "metadata": {},
     "output_type": "execute_result"
    }
   ],
   "source": [
    "np.mean(group_mean_iep)"
   ]
  },
  {
   "cell_type": "code",
   "execution_count": 314,
   "metadata": {},
   "outputs": [
    {
     "data": {
      "text/plain": [
       "<matplotlib.axes._subplots.AxesSubplot at 0x7fad141f4110>"
      ]
     },
     "execution_count": 314,
     "metadata": {},
     "output_type": "execute_result"
    },
    {
     "data": {
      "image/png": "[encoded data removed]",
      "text/plain": [
       "<Figure size 432x288 with 1 Axes>"
      ]
     },
     "metadata": {
      "needs_background": "light"
     },
     "output_type": "display_data"
    }
   ],
   "source": [
    "no_mag_df['t_stay']= pd.to_numeric(no_mag_df['t_stay'], errors = 'coerce')\n",
    "\n",
    "\n",
    "#Which of the two, Camelia Middle and Southerland Middle, have the best teacher retention rates?\n",
    "no_mag_df.groupby('school_name')['t_stay'].sum().plot(kind='bar')\n",
    "\n"
   ]
  },
  {
   "cell_type": "code",
   "execution_count": 315,
   "metadata": {},
   "outputs": [],
   "source": [
    "t_stay_mean = no_mag_df.groupby('school_name')['t_stay'].mean()"
   ]
  },
  {
   "cell_type": "code",
   "execution_count": 316,
   "metadata": {},
   "outputs": [
    {
     "data": {
      "text/plain": [
       "school_name\n",
       "Acacia Middle        0.590643\n",
       "Beacon Middle        0.437870\n",
       "Birch Middle         0.514286\n",
       "Brook Middle         0.533333\n",
       "Camellia Middle      0.523207\n",
       "Cedar Middle         0.533333\n",
       "Daffodil Middle      0.533333\n",
       "Englewood Middle     0.507042\n",
       "Justice Middle       0.466321\n",
       "Lakeville Middle     0.569307\n",
       "Laurel Middle        0.577778\n",
       "Magnolia Middle      0.607692\n",
       "Maple Middle         0.587379\n",
       "Marigold Middle      0.459302\n",
       "Oak Middle           0.529412\n",
       "Pleasant Middle      0.519380\n",
       "Sandpiper Middle     0.569767\n",
       "Sequoia Middle       0.462069\n",
       "Sutherland Middle    0.551440\n",
       "Valley Middle        0.576159\n",
       "Village Middle       0.540909\n",
       "Waverley Middle      0.438710\n",
       "Wellington Middle    0.521127\n",
       "Wharton Middle       0.586066\n",
       "Wilkins Middle       0.528736\n",
       "school_name               NaN\n",
       "Name: t_stay, dtype: float64"
      ]
     },
     "execution_count": 316,
     "metadata": {},
     "output_type": "execute_result"
    }
   ],
   "source": [
    "t_stay_mean"
   ]
  },
  {
   "cell_type": "code",
   "execution_count": 322,
   "metadata": {},
   "outputs": [
    {
     "data": {
      "text/plain": [
       "0.5305840425500711"
      ]
     },
     "execution_count": 322,
     "metadata": {},
     "output_type": "execute_result"
    }
   ],
   "source": [
    "np.mean(t_stay_mean)"
   ]
  },
  {
   "cell_type": "code",
   "execution_count": null,
   "metadata": {},
   "outputs": [],
   "source": []
  }
 ],
 "metadata": {
  "kernelspec": {
   "display_name": "Python 3",
   "language": "python",
   "name": "python3"
  },
  "language_info": {
   "codemirror_mode": {
    "name": "ipython",
    "version": 3
   },
   "file_extension": ".py",
   "mimetype": "text/x-python",
   "name": "python",
   "nbconvert_exporter": "python",
   "pygments_lexer": "ipython3",
   "version": "3.7.6"
  }
 },
 "nbformat": 4,
 "nbformat_minor": 4
}
